{
 "cells": [
  {
   "cell_type": "markdown",
   "id": "2528088f-45b2-4621-84d8-09e052c43367",
   "metadata": {},
   "source": [
    "# Install AWS CLI"
   ]
  },
  {
   "cell_type": "code",
   "execution_count": 3,
   "id": "4459585b-3d71-4f67-9cf2-8ded2327f600",
   "metadata": {},
   "outputs": [
    {
     "name": "stdout",
     "output_type": "stream",
     "text": [
      "aws-cli/2.22.12 Python/3.12.7 Darwin/23.5.0 source/arm64\n"
     ]
    }
   ],
   "source": [
    "#! brew upgrade awscli\n",
    "! aws --version"
   ]
  },
  {
   "cell_type": "markdown",
   "id": "2cf4e338-3a20-4eac-9412-706ca2f50527",
   "metadata": {},
   "source": [
    "# Spark"
   ]
  },
  {
   "cell_type": "code",
   "execution_count": 1,
   "id": "d64bcd43-0506-4216-81ee-3bebec08d188",
   "metadata": {
    "scrolled": true
   },
   "outputs": [
    {
     "name": "stdout",
     "output_type": "stream",
     "text": [
      ":: loading settings :: url = jar:file:/opt/anaconda3/lib/python3.11/site-packages/pyspark/jars/ivy-2.5.1.jar!/org/apache/ivy/core/settings/ivysettings.xml\n"
     ]
    },
    {
     "name": "stderr",
     "output_type": "stream",
     "text": [
      "Ivy Default Cache set to: /Users/soumilshah/.ivy2/cache\n",
      "The jars for the packages stored in: /Users/soumilshah/.ivy2/jars\n",
      "org.apache.iceberg#iceberg-spark-runtime-3.5_2.12 added as a dependency\n",
      "software.amazon.s3tables#s3-tables-catalog-for-iceberg-runtime added as a dependency\n",
      "software.amazon.awssdk#glue added as a dependency\n",
      "software.amazon.awssdk#sts added as a dependency\n",
      "software.amazon.awssdk#s3 added as a dependency\n",
      "software.amazon.awssdk#dynamodb added as a dependency\n",
      "software.amazon.awssdk#kms added as a dependency\n",
      ":: resolving dependencies :: org.apache.spark#spark-submit-parent-13f0a66f-6465-4a0c-927d-665f29c4f533;1.0\n",
      "\tconfs: [default]\n",
      "\tfound org.apache.iceberg#iceberg-spark-runtime-3.5_2.12;1.7.0 in central\n",
      "\tfound software.amazon.s3tables#s3-tables-catalog-for-iceberg-runtime;0.1.3 in central\n",
      "\tfound software.amazon.awssdk#glue;2.20.143 in central\n",
      "\tfound software.amazon.awssdk#aws-json-protocol;2.20.143 in central\n",
      "\tfound software.amazon.awssdk#aws-core;2.20.143 in central\n",
      "\tfound software.amazon.awssdk#annotations;2.20.143 in central\n",
      "\tfound software.amazon.awssdk#regions;2.20.143 in central\n",
      "\tfound software.amazon.awssdk#utils;2.20.143 in central\n",
      "\tfound org.reactivestreams#reactive-streams;1.0.4 in local-m2-cache\n",
      "\tfound org.slf4j#slf4j-api;1.7.30 in local-m2-cache\n",
      "\tfound software.amazon.awssdk#sdk-core;2.20.143 in central\n",
      "\tfound software.amazon.awssdk#http-client-spi;2.20.143 in central\n",
      "\tfound software.amazon.awssdk#metrics-spi;2.20.143 in central\n",
      "\tfound software.amazon.awssdk#endpoints-spi;2.20.143 in central\n",
      "\tfound software.amazon.awssdk#profiles;2.20.143 in central\n",
      "\tfound software.amazon.awssdk#json-utils;2.20.143 in central\n",
      "\tfound software.amazon.awssdk#third-party-jackson-core;2.20.143 in central\n",
      "\tfound software.amazon.awssdk#auth;2.20.143 in central\n",
      "\tfound software.amazon.eventstream#eventstream;1.0.1 in local-m2-cache\n",
      "\tfound software.amazon.awssdk#protocol-core;2.20.143 in central\n",
      "\tfound software.amazon.awssdk#apache-client;2.20.143 in central\n",
      "\tfound org.apache.httpcomponents#httpclient;4.5.13 in local-m2-cache\n",
      "\tfound org.apache.httpcomponents#httpcore;4.4.13 in local-m2-cache\n",
      "\tfound commons-logging#commons-logging;1.2 in local-m2-cache\n",
      "\tfound commons-codec#commons-codec;1.15 in local-m2-cache\n",
      "\tfound software.amazon.awssdk#netty-nio-client;2.20.143 in central\n",
      "\tfound io.netty#netty-codec-http;4.1.94.Final in central\n",
      "\tfound io.netty#netty-common;4.1.94.Final in local-m2-cache\n",
      "\tfound io.netty#netty-buffer;4.1.94.Final in local-m2-cache\n",
      "\tfound io.netty#netty-transport;4.1.94.Final in local-m2-cache\n",
      "\tfound io.netty#netty-resolver;4.1.94.Final in local-m2-cache\n",
      "\tfound io.netty#netty-codec;4.1.94.Final in local-m2-cache\n",
      "\tfound io.netty#netty-handler;4.1.94.Final in local-m2-cache\n",
      "\tfound io.netty#netty-transport-native-unix-common;4.1.94.Final in local-m2-cache\n",
      "\tfound io.netty#netty-codec-http2;4.1.94.Final in central\n",
      "\tfound io.netty#netty-transport-classes-epoll;4.1.94.Final in local-m2-cache\n",
      "\tfound software.amazon.awssdk#sts;2.20.143 in central\n",
      "\tfound software.amazon.awssdk#aws-query-protocol;2.20.143 in central\n",
      "\tfound software.amazon.awssdk#s3;2.20.143 in central\n",
      "\tfound software.amazon.awssdk#aws-xml-protocol;2.20.143 in central\n",
      "\tfound software.amazon.awssdk#arns;2.20.143 in central\n",
      "\tfound software.amazon.awssdk#crt-core;2.20.143 in central\n",
      "\tfound software.amazon.awssdk#dynamodb;2.20.143 in central\n",
      "\tfound software.amazon.awssdk#kms;2.20.143 in central\n",
      ":: resolution report :: resolve 472ms :: artifacts dl 9ms\n",
      "\t:: modules in use:\n",
      "\tcommons-codec#commons-codec;1.15 from local-m2-cache in [default]\n",
      "\tcommons-logging#commons-logging;1.2 from local-m2-cache in [default]\n",
      "\tio.netty#netty-buffer;4.1.94.Final from local-m2-cache in [default]\n",
      "\tio.netty#netty-codec;4.1.94.Final from local-m2-cache in [default]\n",
      "\tio.netty#netty-codec-http;4.1.94.Final from central in [default]\n",
      "\tio.netty#netty-codec-http2;4.1.94.Final from central in [default]\n",
      "\tio.netty#netty-common;4.1.94.Final from local-m2-cache in [default]\n",
      "\tio.netty#netty-handler;4.1.94.Final from local-m2-cache in [default]\n",
      "\tio.netty#netty-resolver;4.1.94.Final from local-m2-cache in [default]\n",
      "\tio.netty#netty-transport;4.1.94.Final from local-m2-cache in [default]\n",
      "\tio.netty#netty-transport-classes-epoll;4.1.94.Final from local-m2-cache in [default]\n",
      "\tio.netty#netty-transport-native-unix-common;4.1.94.Final from local-m2-cache in [default]\n",
      "\torg.apache.httpcomponents#httpclient;4.5.13 from local-m2-cache in [default]\n",
      "\torg.apache.httpcomponents#httpcore;4.4.13 from local-m2-cache in [default]\n",
      "\torg.apache.iceberg#iceberg-spark-runtime-3.5_2.12;1.7.0 from central in [default]\n",
      "\torg.reactivestreams#reactive-streams;1.0.4 from local-m2-cache in [default]\n",
      "\torg.slf4j#slf4j-api;1.7.30 from local-m2-cache in [default]\n",
      "\tsoftware.amazon.awssdk#annotations;2.20.143 from central in [default]\n",
      "\tsoftware.amazon.awssdk#apache-client;2.20.143 from central in [default]\n",
      "\tsoftware.amazon.awssdk#arns;2.20.143 from central in [default]\n",
      "\tsoftware.amazon.awssdk#auth;2.20.143 from central in [default]\n",
      "\tsoftware.amazon.awssdk#aws-core;2.20.143 from central in [default]\n",
      "\tsoftware.amazon.awssdk#aws-json-protocol;2.20.143 from central in [default]\n",
      "\tsoftware.amazon.awssdk#aws-query-protocol;2.20.143 from central in [default]\n",
      "\tsoftware.amazon.awssdk#aws-xml-protocol;2.20.143 from central in [default]\n",
      "\tsoftware.amazon.awssdk#crt-core;2.20.143 from central in [default]\n",
      "\tsoftware.amazon.awssdk#dynamodb;2.20.143 from central in [default]\n",
      "\tsoftware.amazon.awssdk#endpoints-spi;2.20.143 from central in [default]\n",
      "\tsoftware.amazon.awssdk#glue;2.20.143 from central in [default]\n",
      "\tsoftware.amazon.awssdk#http-client-spi;2.20.143 from central in [default]\n",
      "\tsoftware.amazon.awssdk#json-utils;2.20.143 from central in [default]\n",
      "\tsoftware.amazon.awssdk#kms;2.20.143 from central in [default]\n",
      "\tsoftware.amazon.awssdk#metrics-spi;2.20.143 from central in [default]\n",
      "\tsoftware.amazon.awssdk#netty-nio-client;2.20.143 from central in [default]\n",
      "\tsoftware.amazon.awssdk#profiles;2.20.143 from central in [default]\n",
      "\tsoftware.amazon.awssdk#protocol-core;2.20.143 from central in [default]\n",
      "\tsoftware.amazon.awssdk#regions;2.20.143 from central in [default]\n",
      "\tsoftware.amazon.awssdk#s3;2.20.143 from central in [default]\n",
      "\tsoftware.amazon.awssdk#sdk-core;2.20.143 from central in [default]\n",
      "\tsoftware.amazon.awssdk#sts;2.20.143 from central in [default]\n",
      "\tsoftware.amazon.awssdk#third-party-jackson-core;2.20.143 from central in [default]\n",
      "\tsoftware.amazon.awssdk#utils;2.20.143 from central in [default]\n",
      "\tsoftware.amazon.eventstream#eventstream;1.0.1 from local-m2-cache in [default]\n",
      "\tsoftware.amazon.s3tables#s3-tables-catalog-for-iceberg-runtime;0.1.3 from central in [default]\n",
      "\t---------------------------------------------------------------------\n",
      "\t|                  |            modules            ||   artifacts   |\n",
      "\t|       conf       | number| search|dwnlded|evicted|| number|dwnlded|\n",
      "\t---------------------------------------------------------------------\n",
      "\t|      default     |   44  |   0   |   0   |   0   ||   44  |   0   |\n",
      "\t---------------------------------------------------------------------\n",
      ":: retrieving :: org.apache.spark#spark-submit-parent-13f0a66f-6465-4a0c-927d-665f29c4f533\n",
      "\tconfs: [default]\n",
      "\t0 artifacts copied, 44 already retrieved (0kB/7ms)\n",
      "24/12/15 15:35:17 WARN NativeCodeLoader: Unable to load native-hadoop library for your platform... using builtin-java classes where applicable\n",
      "Setting default log level to \"WARN\".\n",
      "To adjust logging level use sc.setLogLevel(newLevel). For SparkR, use setLogLevel(newLevel).\n"
     ]
    }
   ],
   "source": [
    "from pyspark.sql import SparkSession\n",
    "import os\n",
    "\n",
    "# Set JAVA_HOME if needed\n",
    "os.environ[\"JAVA_HOME\"] = \"/opt/homebrew/opt/openjdk@11\"\n",
    "\n",
    "# Define variables\n",
    "WAREHOUSE_PATH = \"XXXX\"\n",
    "\n",
    "# Initialize SparkSession with required configurations\n",
    "spark = SparkSession.builder \\\n",
    "    .appName(\"iceberg_lab\") \\\n",
    "    .config(\"spark.jars.packages\", \"org.apache.iceberg:iceberg-spark-runtime-3.5_2.12:1.7.0,software.amazon.s3tables:s3-tables-catalog-for-iceberg-runtime:0.1.3,software.amazon.awssdk:glue:2.20.143,software.amazon.awssdk:sts:2.20.143,software.amazon.awssdk:s3:2.20.143,software.amazon.awssdk:dynamodb:2.20.143,software.amazon.awssdk:kms:2.20.143\")  \\\n",
    "    .config(\"spark.sql.catalog.s3tablesbucket\", \"org.apache.iceberg.spark.SparkCatalog\") \\\n",
    "    .config(\"spark.sql.catalog.s3tablesbucket.client.region\", \"us-east-1\") \\\n",
    "    .config(\"spark.sql.catalog.defaultCatalog\", \"s3tablesbucket\") \\\n",
    "    .config(\"spark.sql.catalog.s3tablesbucket.warehouse\", WAREHOUSE_PATH) \\\n",
    "    .config(\"spark.sql.catalog.s3tablesbucket.catalog-impl\",\"software.amazon.s3tables.iceberg.S3TablesCatalog\") \\\n",
    "    .getOrCreate()\n"
   ]
  },
  {
   "cell_type": "code",
   "execution_count": 3,
   "id": "4a0a07e0-673e-4049-a08e-7677ab0f4577",
   "metadata": {},
   "outputs": [
    {
     "data": {
      "text/html": [
       "\n",
       "            <div>\n",
       "                <p><b>SparkSession - in-memory</b></p>\n",
       "                \n",
       "        <div>\n",
       "            <p><b>SparkContext</b></p>\n",
       "\n",
       "            <p><a href=\"http://soumils-mbp:4040\">Spark UI</a></p>\n",
       "\n",
       "            <dl>\n",
       "              <dt>Version</dt>\n",
       "                <dd><code>v3.4.0</code></dd>\n",
       "              <dt>Master</dt>\n",
       "                <dd><code>local[*]</code></dd>\n",
       "              <dt>AppName</dt>\n",
       "                <dd><code>iceberg_lab</code></dd>\n",
       "            </dl>\n",
       "        </div>\n",
       "        \n",
       "            </div>\n",
       "        "
      ],
      "text/plain": [
       "<pyspark.sql.session.SparkSession at 0x10d550a10>"
      ]
     },
     "execution_count": 3,
     "metadata": {},
     "output_type": "execute_result"
    }
   ],
   "source": [
    "spark"
   ]
  },
  {
   "cell_type": "code",
   "execution_count": 2,
   "id": "40fa074c-7772-4a8e-a42d-6684f04d8187",
   "metadata": {},
   "outputs": [
    {
     "name": "stdout",
     "output_type": "stream",
     "text": [
      "+-----------------+\n",
      "|        namespace|\n",
      "+-----------------+\n",
      "|example_namespace|\n",
      "+-----------------+\n",
      "\n",
      "++\n",
      "||\n",
      "++\n",
      "++\n",
      "\n",
      "+-----------------+-------------+-----------+\n",
      "|        namespace|    tableName|isTemporary|\n",
      "+-----------------+-------------+-----------+\n",
      "|example_namespace|bronze_orders|      false|\n",
      "|example_namespace|silver_orders|      false|\n",
      "+-----------------+-------------+-----------+\n"
     ]
    }
   ],
   "source": [
    "spark.sql(\"SHOW NAMESPACES IN s3tablesbucket\").show()\n",
    "spark.sql(\"USE s3tablesbucket.example_namespace\").show()\n",
    "spark.sql(\"SHOW TABLES\").show()"
   ]
  },
  {
   "cell_type": "code",
   "execution_count": 3,
   "id": "ef9a17b1-5a61-4152-bb63-f689b1d0b3b9",
   "metadata": {},
   "outputs": [
    {
     "name": "stdout",
     "output_type": "stream",
     "text": [
      "+--------+\n",
      "|count(1)|\n",
      "+--------+\n",
      "|       7|\n",
      "+--------+\n",
      "\n",
      "+--------+\n",
      "|count(1)|\n",
      "+--------+\n",
      "|       5|\n",
      "+--------+\n"
     ]
    }
   ],
   "source": [
    "spark.sql(\"SELECT count(*) FROM bronze_orders \").show()\n",
    "spark.sql(\"SELECT count(*) FROM silver_orders \").show()"
   ]
  },
  {
   "cell_type": "code",
   "execution_count": 4,
   "id": "ba615518-bfa1-4c18-85ea-a352edc72c0e",
   "metadata": {},
   "outputs": [
    {
     "name": "stderr",
     "output_type": "stream",
     "text": [
      "                                                                                \r"
     ]
    },
    {
     "name": "stdout",
     "output_type": "stream",
     "text": [
      "+---------+------------+\n",
      "|invoiceid|    category|\n",
      "+---------+------------+\n",
      "|    40994|  market####|\n",
      "|    83597|language####|\n",
      "|    24137|      degree|\n",
      "|    15587|         bit|\n",
      "|    42918|      school|\n",
      "|    40994|      market|\n",
      "|    83597|    language|\n",
      "+---------+------------+\n"
     ]
    },
    {
     "name": "stderr",
     "output_type": "stream",
     "text": [
      "[Stage 9:>                                                          (0 + 1) / 1]\r"
     ]
    },
    {
     "name": "stdout",
     "output_type": "stream",
     "text": [
      "+---------+------------+\n",
      "|invoiceid|    category|\n",
      "+---------+------------+\n",
      "|    42918|      school|\n",
      "|    15587|         bit|\n",
      "|    24137|      degree|\n",
      "|    83597|language####|\n",
      "|    40994|  market####|\n",
      "+---------+------------+\n"
     ]
    },
    {
     "name": "stderr",
     "output_type": "stream",
     "text": [
      "                                                                                \r"
     ]
    }
   ],
   "source": [
    "\n",
    "spark.sql(\"SELECT invoiceid,category FROM bronze_orders \").show()\n",
    "spark.sql(\"SELECT invoiceid,category FROM silver_orders \").show()\n"
   ]
  },
  {
   "cell_type": "code",
   "execution_count": null,
   "id": "d82ab9ec-3078-46d1-9773-7a78548543a6",
   "metadata": {},
   "outputs": [],
   "source": []
  }
 ],
 "metadata": {
  "kernelspec": {
   "display_name": "Python 3 (ipykernel)",
   "language": "python",
   "name": "python3"
  },
  "language_info": {
   "codemirror_mode": {
    "name": "ipython",
    "version": 3
   },
   "file_extension": ".py",
   "mimetype": "text/x-python",
   "name": "python",
   "nbconvert_exporter": "python",
   "pygments_lexer": "ipython3",
   "version": "3.11.7"
  }
 },
 "nbformat": 4,
 "nbformat_minor": 5
}
